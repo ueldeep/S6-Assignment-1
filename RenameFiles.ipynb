{
 "cells": [
  {
   "cell_type": "code",
   "execution_count": 115,
   "metadata": {},
   "outputs": [],
   "source": [
    "import os \n",
    "import string\n",
    "import random"
   ]
  },
  {
   "cell_type": "code",
   "execution_count": 116,
   "metadata": {},
   "outputs": [],
   "source": [
    "def generate_filename(old_filename, nochar=5, nodigits=3):\n",
    "    chars =''\n",
    "    digits =''\n",
    "    charslist = list(string.ascii_uppercase)\n",
    "    while len(chars) < nochar:\n",
    "        #random.shuffle(charslist)\n",
    "        chars += random.choice(charslist) \n",
    "    while len(digits) < nodigits:\n",
    "        digits += str(random.randint(0,9))\n",
    "    new_filename = chars+digits+old_filename[old_filename.find('.'):]\n",
    "    return new_filename"
   ]
  },
  {
   "cell_type": "code",
   "execution_count": 117,
   "metadata": {},
   "outputs": [],
   "source": [
    "files_location = '.\\\\universe\\\\'"
   ]
  },
  {
   "cell_type": "code",
   "execution_count": 118,
   "metadata": {},
   "outputs": [],
   "source": [
    "org_files = os.listdir(files_location)"
   ]
  },
  {
   "cell_type": "code",
   "execution_count": 119,
   "metadata": {},
   "outputs": [
    {
     "data": {
      "text/plain": [
       "['ACJKI313.png',\n",
       " 'ATRNV967.png',\n",
       " 'BWYFE134.png',\n",
       " 'CCEUT330.png',\n",
       " 'CTUVU833.png',\n",
       " 'DWLKU018.png',\n",
       " 'DWZQH989.png',\n",
       " 'FHLFM588.png',\n",
       " 'GFJZD653.png',\n",
       " 'GFKHI314.png',\n",
       " 'GFOAQ173.png',\n",
       " 'GNVND940.png',\n",
       " 'GRMPN919.png',\n",
       " 'GYUVL210.png',\n",
       " 'HUCTN773.png',\n",
       " 'IIPAU364.png',\n",
       " 'ILLBK152.png',\n",
       " 'IMSCF727.png',\n",
       " 'IOPVL648.png',\n",
       " 'KCPIV705.png',\n",
       " 'LPKIJ951.png',\n",
       " 'LXZTR982.png',\n",
       " 'MDFYH354.png',\n",
       " 'MJFRF381.png',\n",
       " 'MUZVE545.png',\n",
       " 'NHBHU705.png',\n",
       " 'OVUSZ782.png',\n",
       " 'PCDMH370.png',\n",
       " 'PICYW246.png',\n",
       " 'PJGYN940.png',\n",
       " 'PYROW201.png',\n",
       " 'QERHX172.png',\n",
       " 'QRYMB062.png',\n",
       " 'QZXIH679.png',\n",
       " 'RBVQC610.png',\n",
       " 'RDSWE885.png',\n",
       " 'RJCMU206.png',\n",
       " 'RJVEY278.png',\n",
       " 'STFFT489.png',\n",
       " 'TBGTG550.png',\n",
       " 'VEFBA240.png',\n",
       " 'VVSZP410.png',\n",
       " 'WCOXN301.png',\n",
       " 'WQVXZ891.png',\n",
       " 'WVZOG417.png',\n",
       " 'XRXUW415.png',\n",
       " 'XVGAT908.png',\n",
       " 'YBSWU702.png',\n",
       " 'YXVWU899.png',\n",
       " 'YZVVQ914.png']"
      ]
     },
     "execution_count": 119,
     "metadata": {},
     "output_type": "execute_result"
    }
   ],
   "source": [
    "org_files"
   ]
  },
  {
   "cell_type": "code",
   "execution_count": 120,
   "metadata": {},
   "outputs": [],
   "source": [
    "while len(org_files) >0:\n",
    "    old_filename = org_files.pop()\n",
    "    new_filename = generate_filename(old_filename)\n",
    "    os.rename(files_location+old_filename, files_location+new_filename)"
   ]
  },
  {
   "cell_type": "code",
   "execution_count": 121,
   "metadata": {},
   "outputs": [
    {
     "data": {
      "text/plain": [
       "['ACKSS219.png',\n",
       " 'AQKPL987.png',\n",
       " 'AZEEP349.png',\n",
       " 'CCWMW828.png',\n",
       " 'DSJZF517.png',\n",
       " 'EFYEY046.png',\n",
       " 'EJQNF571.png',\n",
       " 'ESPMA845.png',\n",
       " 'GHZHJ073.png',\n",
       " 'GTJQB262.png',\n",
       " 'HCARG624.png',\n",
       " 'HTGYG650.png',\n",
       " 'HYIWL215.png',\n",
       " 'IURVT340.png',\n",
       " 'IWTZI876.png',\n",
       " 'KMYYD090.png',\n",
       " 'KTRDN861.png',\n",
       " 'LNVEI119.png',\n",
       " 'LRVPP847.png',\n",
       " 'LVAUX737.png',\n",
       " 'MKPPC136.png',\n",
       " 'MLDAJ297.png',\n",
       " 'NGSMU939.png',\n",
       " 'NLWGW173.png',\n",
       " 'NMEXA034.png',\n",
       " 'NUKYJ714.png',\n",
       " 'OIKQV568.png',\n",
       " 'OMMGP593.png',\n",
       " 'ONHTC486.png',\n",
       " 'PIDVR559.png',\n",
       " 'PPXFL024.png',\n",
       " 'PTAUN139.png',\n",
       " 'QGOGD272.png',\n",
       " 'QPXUQ980.png',\n",
       " 'QYISK480.png',\n",
       " 'SJWLB306.png',\n",
       " 'STVTZ729.png',\n",
       " 'SYPMY935.png',\n",
       " 'TJDMB310.png',\n",
       " 'TWERX789.png',\n",
       " 'UBUOU916.png',\n",
       " 'XSODF190.png',\n",
       " 'YCWOU741.png',\n",
       " 'YMMFD754.png',\n",
       " 'YNLAL892.png',\n",
       " 'YWNOD402.png',\n",
       " 'ZAEGL835.png',\n",
       " 'ZEFHZ320.png',\n",
       " 'ZMAZS749.png',\n",
       " 'ZPENO691.png']"
      ]
     },
     "execution_count": 121,
     "metadata": {},
     "output_type": "execute_result"
    }
   ],
   "source": [
    "os.listdir(files_location)"
   ]
  },
  {
   "cell_type": "code",
   "execution_count": null,
   "metadata": {},
   "outputs": [],
   "source": []
  }
 ],
 "metadata": {
  "kernelspec": {
   "display_name": "Python 3",
   "language": "python",
   "name": "python3"
  },
  "language_info": {
   "codemirror_mode": {
    "name": "ipython",
    "version": 3
   },
   "file_extension": ".py",
   "mimetype": "text/x-python",
   "name": "python",
   "nbconvert_exporter": "python",
   "pygments_lexer": "ipython3",
   "version": "3.8.5"
  }
 },
 "nbformat": 4,
 "nbformat_minor": 4
}
